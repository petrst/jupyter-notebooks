{
 "cells": [
  {
   "cell_type": "markdown",
   "metadata": {},
   "source": [
    "# Random test"
   ]
  },
  {
   "cell_type": "code",
   "execution_count": 2,
   "metadata": {
    "collapsed": true
   },
   "outputs": [],
   "source": [
    "import math\n",
    "import random"
   ]
  },
  {
   "cell_type": "code",
   "execution_count": 4,
   "metadata": {
    "collapsed": false
   },
   "outputs": [
    {
     "data": {
      "text/plain": [
       "[91,\n",
       " 96,\n",
       " 10,\n",
       " 56,\n",
       " 57,\n",
       " 24,\n",
       " 61,\n",
       " 67,\n",
       " 25,\n",
       " 2,\n",
       " 71,\n",
       " 10,\n",
       " 70,\n",
       " 9,\n",
       " 17,\n",
       " 71,\n",
       " 27,\n",
       " 21,\n",
       " 57,\n",
       " 28,\n",
       " 17,\n",
       " 70,\n",
       " 100,\n",
       " 79,\n",
       " 45,\n",
       " 77,\n",
       " 31,\n",
       " 19,\n",
       " 75,\n",
       " 67,\n",
       " 45,\n",
       " 27,\n",
       " 19,\n",
       " 87,\n",
       " 77,\n",
       " 79,\n",
       " 88,\n",
       " 58,\n",
       " 35,\n",
       " 17,\n",
       " 1,\n",
       " 54,\n",
       " 14,\n",
       " 25,\n",
       " 60,\n",
       " 83,\n",
       " 27,\n",
       " 64,\n",
       " 99,\n",
       " 51,\n",
       " 100,\n",
       " 65,\n",
       " 48,\n",
       " 90,\n",
       " 23,\n",
       " 41,\n",
       " 12,\n",
       " 24,\n",
       " 43,\n",
       " 1,\n",
       " 25,\n",
       " 77,\n",
       " 4,\n",
       " 79,\n",
       " 17,\n",
       " 22,\n",
       " 49,\n",
       " 94,\n",
       " 79,\n",
       " 36,\n",
       " 64,\n",
       " 63,\n",
       " 59,\n",
       " 53,\n",
       " 65,\n",
       " 63,\n",
       " 93,\n",
       " 60,\n",
       " 34,\n",
       " 84,\n",
       " 72,\n",
       " 53,\n",
       " 60,\n",
       " 60,\n",
       " 99,\n",
       " 97,\n",
       " 98,\n",
       " 88,\n",
       " 56,\n",
       " 14,\n",
       " 57,\n",
       " 70,\n",
       " 36,\n",
       " 19,\n",
       " 88,\n",
       " 66,\n",
       " 72,\n",
       " 60,\n",
       " 32,\n",
       " 15]"
      ]
     },
     "execution_count": 4,
     "metadata": {},
     "output_type": "execute_result"
    }
   ],
   "source": [
    "[random.randint(0,100) for _ in range(100)]"
   ]
  },
  {
   "cell_type": "code",
   "execution_count": 11,
   "metadata": {
    "collapsed": false
   },
   "outputs": [
    {
     "data": {
      "text/plain": [
       "52"
      ]
     },
     "execution_count": 11,
     "metadata": {},
     "output_type": "execute_result"
    }
   ],
   "source": [
    "sum(Out[4])/len(Out[4])"
   ]
  }
 ],
 "metadata": {
  "kernelspec": {
   "display_name": "Python 2",
   "language": "python",
   "name": "python2"
  },
  "language_info": {
   "codemirror_mode": {
    "name": "ipython",
    "version": 2
   },
   "file_extension": ".py",
   "mimetype": "text/x-python",
   "name": "python",
   "nbconvert_exporter": "python",
   "pygments_lexer": "ipython2",
   "version": "2.7.10"
  }
 },
 "nbformat": 4,
 "nbformat_minor": 0
}
