{
 "cells": [
  {
   "cell_type": "markdown",
   "metadata": {},
   "source": [
    "# Advent of Code 2016 - Day 2\n",
    "http://adventofcode.com/2016/day/2"
   ]
  },
  {
   "cell_type": "code",
   "execution_count": 1,
   "metadata": {
    "collapsed": false
   },
   "outputs": [],
   "source": [
    "def U():\n",
    "    global y\n",
    "    if y>0: y -= 1"
   ]
  },
  {
   "cell_type": "code",
   "execution_count": 2,
   "metadata": {
    "collapsed": false
   },
   "outputs": [],
   "source": [
    "def D():\n",
    "    global y\n",
    "    if y<2: y += 1"
   ]
  },
  {
   "cell_type": "code",
   "execution_count": 3,
   "metadata": {
    "collapsed": false
   },
   "outputs": [],
   "source": [
    "def L():\n",
    "    global x\n",
    "    if x>0: x-=1 "
   ]
  },
  {
   "cell_type": "code",
   "execution_count": 4,
   "metadata": {
    "collapsed": true
   },
   "outputs": [],
   "source": [
    "def R():\n",
    "    global x\n",
    "    if x<2: x+=1"
   ]
  },
  {
   "cell_type": "code",
   "execution_count": 5,
   "metadata": {
    "collapsed": true
   },
   "outputs": [],
   "source": [
    "x,y=1,1"
   ]
  },
  {
   "cell_type": "code",
   "execution_count": 6,
   "metadata": {
    "collapsed": true
   },
   "outputs": [],
   "source": [
    "keypad=[[1,2,3],[4,5,6],[7,8,9]]"
   ]
  },
  {
   "cell_type": "code",
   "execution_count": 7,
   "metadata": {
    "collapsed": true
   },
   "outputs": [],
   "source": [
    "def interpret(code):\n",
    "    for ch in code:\n",
    "        globals()[ch]()"
   ]
  },
  {
   "cell_type": "code",
   "execution_count": 8,
   "metadata": {
    "collapsed": false
   },
   "outputs": [],
   "source": [
    "interpret(\"UUUUURDD\")"
   ]
  },
  {
   "cell_type": "code",
   "execution_count": 9,
   "metadata": {
    "collapsed": false
   },
   "outputs": [],
   "source": [
    "fh=open(\"input2.txt\",'r')"
   ]
  },
  {
   "cell_type": "code",
   "execution_count": 10,
   "metadata": {
    "collapsed": false
   },
   "outputs": [],
   "source": [
    "for line in fh.readlines():\n",
    "    x,y=1,1\n",
    "    interpret(line.strip())\n",
    "    print keypad[y][x],"
   ]
  },
  {
   "cell_type": "code",
   "execution_count": 11,
   "metadata": {
    "collapsed": true
   },
   "outputs": [],
   "source": [
    "fh.close()"
   ]
  },
  {
   "cell_type": "markdown",
   "metadata": {},
   "source": [
    "I have to change the implementation for second half ..."
   ]
  },
  {
   "cell_type": "code",
   "execution_count": 12,
   "metadata": {
    "collapsed": false
   },
   "outputs": [],
   "source": [
    "keypad=[   \n",
    "    \"0000000\",\n",
    "    \"0001000\",\n",
    "    \"0023400\",\n",
    "    \"0567890\",\n",
    "    \"00ABC00\",\n",
    "    \"000D000\",\n",
    "    \"0000000\"]"
   ]
  },
  {
   "cell_type": "code",
   "execution_count": 13,
   "metadata": {
    "collapsed": false
   },
   "outputs": [],
   "source": [
    "def pos2code(x,y):\n",
    "    return keypad[y][x]"
   ]
  },
  {
   "cell_type": "code",
   "execution_count": 14,
   "metadata": {
    "collapsed": true
   },
   "outputs": [],
   "source": [
    "def U():\n",
    "    global x,y\n",
    "    if keypad[y-1][x]<>'0': y-=1\n",
    "\n",
    "def D():\n",
    "    global x,y\n",
    "    if keypad[y+1][x]<>'0': y+=1\n",
    "\n",
    "def R():\n",
    "    global x,y\n",
    "    if keypad[y][x+1]<>'0': x+=1\n",
    "\n",
    "def L():\n",
    "    global x,y\n",
    "    if keypad[y][x-1]<>'0': x-=1"
   ]
  },
  {
   "cell_type": "code",
   "execution_count": 15,
   "metadata": {
    "collapsed": false
   },
   "outputs": [],
   "source": [
    "def interpret(code):\n",
    "    for ch in code:\n",
    "        globals()[ch]()"
   ]
  },
  {
   "cell_type": "code",
   "execution_count": 16,
   "metadata": {
    "collapsed": true
   },
   "outputs": [],
   "source": [
    "x,y=1,3"
   ]
  },
  {
   "cell_type": "code",
   "execution_count": 17,
   "metadata": {
    "collapsed": false
   },
   "outputs": [],
   "source": [
    "def test():\n",
    "    global x,y\n",
    "    x,y=1,3\n",
    "    interpret(\"ULL\")\n",
    "    assert pos2code(x,y)=='5'\n",
    "    interpret(\"RRDDD\")\n",
    "    assert pos2code(x,y)=='D'\n",
    "    interpret(\"LURDL\")\n",
    "    assert pos2code(x,y)=='B'\n",
    "    interpret(\"UUUUD\")\n",
    "    assert pos2code(x,y)=='3'\n",
    "\n",
    "test()"
   ]
  },
  {
   "cell_type": "code",
   "execution_count": 2,
   "metadata": {
    "collapsed": true
   },
   "outputs": [],
   "source": [
    "def input(day):\n",
    "    \"(C) By Peter Norvig \"\n",
    "    \"Open this day's input file.\"\n",
    "    filename = 'input{}.txt'.format(day)\n",
    "    try:\n",
    "        return open(filename)\n",
    "    except FileNotFoundError:\n",
    "        return urllib.request.urlopen(\"https://bitbucket.org/petrst/notebooks/src/\" + filename)"
   ]
  },
  {
   "cell_type": "code",
   "execution_count": 19,
   "metadata": {
    "collapsed": true
   },
   "outputs": [],
   "source": [
    "def get_code(inputfile):\n",
    "    global x,y\n",
    "    x,y=1,3\n",
    "    for line in inputfile.readlines():\n",
    "        interpret(line.strip())\n",
    "        print pos2code(x,y),"
   ]
  },
  {
   "cell_type": "code",
   "execution_count": 20,
   "metadata": {
    "collapsed": false
   },
   "outputs": [],
   "source": [
    "get_code(input(2))"
   ]
  },
  {
   "cell_type": "markdown",
   "metadata": {},
   "source": [
    "<hr>\n",
    "# Day3\n",
    "http://adventofcode.com/2016/day/3\n",
    "    "
   ]
  },
  {
   "cell_type": "code",
   "execution_count": 3,
   "metadata": {
    "collapsed": false
   },
   "outputs": [],
   "source": [
    "import re\n",
    "def how_many_triangles(input):\n",
    "    triangles=0\n",
    "    for line in input.readlines():        \n",
    "        p0 = re.compile(\"\\s+\\d+\\s+\\d+\\s+\\d+\\s+\")\n",
    "        p = re.compile(\"\\s+\")\n",
    "        if line.strip():\n",
    "            a,b,c = [int(x) for x in p.split(line.strip())]\n",
    "            if a+b>c and a+c>b and b+c>a:\n",
    "                triangles += 1\n",
    "    return triangles"
   ]
  },
  {
   "cell_type": "code",
   "execution_count": 40,
   "metadata": {
    "collapsed": false
   },
   "outputs": [
    {
     "data": {
      "text/plain": [
       "982"
      ]
     },
     "execution_count": 40,
     "metadata": {},
     "output_type": "execute_result"
    }
   ],
   "source": [
    "how_many_triangles(input(3))"
   ]
  },
  {
   "cell_type": "code",
   "execution_count": null,
   "metadata": {
    "collapsed": false
   },
   "outputs": [],
   "source": [
    "input(3)"
   ]
  },
  {
   "cell_type": "markdown",
   "metadata": {
    "collapsed": true
   },
   "source": [
    "... second part ..."
   ]
  },
  {
   "cell_type": "code",
   "execution_count": 1,
   "metadata": {
    "collapsed": true
   },
   "outputs": [],
   "source": [
    "def read_input(input):\n",
    "    c1,c2,c3=[],[],[]\n",
    "    p0 = re.compile(\"\\s+\\d+\\s+\\d+\\s+\\d+\\s+\")\n",
    "    p = re.compile(\"\\s+\")   \n",
    "    for line in input.readlines():               \n",
    "        if line.strip():\n",
    "            a,b,c = [int(x) for x in p.split(line.strip())]\n",
    "            c1.append(a)\n",
    "            c2.append(b)\n",
    "            c3.append(c)\n",
    "    return c1,c2,c3\n"
   ]
  },
  {
   "cell_type": "code",
   "execution_count": 9,
   "metadata": {
    "collapsed": false
   },
   "outputs": [],
   "source": [
    "c1,c2,c3 = read_input(input(3))\n",
    "\n",
    "def triplet(l):\n",
    "    for i in range(0,len(l),3):\n",
    "        yield l[i],l[i+1],l[i+2]\n",
    "\n",
    "    "
   ]
  },
  {
   "cell_type": "code",
   "execution_count": 10,
   "metadata": {
    "collapsed": false
   },
   "outputs": [
    {
     "data": {
      "text/plain": [
       "<generator object triplet at 0x031C9B98>"
      ]
     },
     "execution_count": 10,
     "metadata": {},
     "output_type": "execute_result"
    }
   ],
   "source": [
    "triplet(c1+c2+c3)"
   ]
  },
  {
   "cell_type": "code",
   "execution_count": 12,
   "metadata": {
    "collapsed": false
   },
   "outputs": [
    {
     "name": "stdout",
     "output_type": "stream",
     "text": [
      "1826\n"
     ]
    }
   ],
   "source": [
    "triangles=0\n",
    "for a,b,c in triplet(c1+c2+c3):\n",
    "    if a+b>c and a+c>b and b+c>a:\n",
    "        triangles += 1\n",
    "print triangles\n",
    "    "
   ]
  },
  {
   "cell_type": "code",
   "execution_count": null,
   "metadata": {
    "collapsed": true
   },
   "outputs": [],
   "source": []
  }
 ],
 "metadata": {
  "kernelspec": {
   "display_name": "Python 2",
   "language": "python",
   "name": "python2"
  },
  "language_info": {
   "codemirror_mode": {
    "name": "ipython",
    "version": 2
   },
   "file_extension": ".py",
   "mimetype": "text/x-python",
   "name": "python",
   "nbconvert_exporter": "python",
   "pygments_lexer": "ipython2",
   "version": "2.7.10"
  }
 },
 "nbformat": 4,
 "nbformat_minor": 0
}
