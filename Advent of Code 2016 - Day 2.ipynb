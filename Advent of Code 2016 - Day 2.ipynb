{
 "cells": [
  {
   "cell_type": "code",
   "execution_count": null,
   "metadata": {
    "collapsed": true
   },
   "outputs": [],
   "source": [
    "# Advent of Code 2016 - Day 2\n",
    "http://adventofcode.com/2016/day/2"
   ]
  },
  {
   "cell_type": "code",
   "execution_count": 1,
   "metadata": {
    "collapsed": true
   },
   "outputs": [],
   "source": [
    "def U():\n",
    "    global y\n",
    "    if y>0: y -= 1"
   ]
  },
  {
   "cell_type": "code",
   "execution_count": 2,
   "metadata": {
    "collapsed": true
   },
   "outputs": [],
   "source": [
    "def D():\n",
    "    global y\n",
    "    if y<2: y += 1"
   ]
  },
  {
   "cell_type": "code",
   "execution_count": 3,
   "metadata": {
    "collapsed": true
   },
   "outputs": [],
   "source": [
    "def L():\n",
    "    global x\n",
    "    if x>0: x-=1 "
   ]
  },
  {
   "cell_type": "code",
   "execution_count": 4,
   "metadata": {
    "collapsed": true
   },
   "outputs": [],
   "source": [
    "def R():\n",
    "    global x\n",
    "    if x<2: x+=1"
   ]
  },
  {
   "cell_type": "code",
   "execution_count": 5,
   "metadata": {
    "collapsed": true
   },
   "outputs": [],
   "source": [
    "x,y=1,1"
   ]
  },
  {
   "cell_type": "code",
   "execution_count": 6,
   "metadata": {
    "collapsed": true
   },
   "outputs": [],
   "source": [
    "keypad=[[1,2,3],[4,5,6],[7,8,9]]"
   ]
  },
  {
   "cell_type": "code",
   "execution_count": 7,
   "metadata": {
    "collapsed": true
   },
   "outputs": [],
   "source": [
    "def interpret(code):\n",
    "    for ch in code:\n",
    "        globals()[ch]()"
   ]
  },
  {
   "cell_type": "code",
   "execution_count": 8,
   "metadata": {
    "collapsed": true
   },
   "outputs": [],
   "source": [
    "interpret(\"UUUUURDD\")"
   ]
  },
  {
   "cell_type": "code",
   "execution_count": 9,
   "metadata": {
    "collapsed": true
   },
   "outputs": [],
   "source": [
    "fh=open(\"input2.txt\",'r')"
   ]
  },
  {
   "cell_type": "code",
   "execution_count": 10,
   "metadata": {
    "collapsed": true
   },
   "outputs": [],
   "source": [
    "for line in fh.readlines():\n",
    "    x,y=1,1\n",
    "    interpret(line.strip())\n",
    "    print keypad[y][x],"
   ]
  },
  {
   "cell_type": "code",
   "execution_count": 11,
   "metadata": {
    "collapsed": true
   },
   "outputs": [],
   "source": [
    "fh.close()"
   ]
  },
  {
   "cell_type": "markdown",
   "metadata": {},
   "source": [
    "I have to change the implementation for second half ..."
   ]
  },
  {
   "cell_type": "code",
   "execution_count": 92,
   "metadata": {
    "collapsed": true
   },
   "outputs": [],
   "source": [
    "keypad=[   \n",
    "    \"0000000\",\n",
    "    \"0001000\",\n",
    "    \"0023400\",\n",
    "    \"0567890\",\n",
    "    \"00ABC00\",\n",
    "    \"000D000\",\n",
    "    \"0000000\"]"
   ]
  },
  {
   "cell_type": "code",
   "execution_count": 93,
   "metadata": {
    "collapsed": true
   },
   "outputs": [],
   "source": [
    "def pos2code(x,y):\n",
    "    return keypad[y][x]"
   ]
  },
  {
   "cell_type": "code",
   "execution_count": 94,
   "metadata": {
    "collapsed": true
   },
   "outputs": [],
   "source": [
    "def U():\n",
    "    global x,y\n",
    "    if keypad[y-1][x]<>'0': y-=1\n",
    "\n",
    "def D():\n",
    "    global x,y\n",
    "    if keypad[y+1][x]<>'0': y+=1\n",
    "\n",
    "def R():\n",
    "    global x,y\n",
    "    if keypad[y][x+1]<>'0': x+=1\n",
    "\n",
    "def L():\n",
    "    global x,y\n",
    "    if keypad[y][x-1]<>'0': x-=1"
   ]
  },
  {
   "cell_type": "code",
   "execution_count": 95,
   "metadata": {
    "collapsed": true
   },
   "outputs": [],
   "source": [
    "def interpret(code):\n",
    "    for ch in code:\n",
    "        globals()[ch]()"
   ]
  },
  {
   "cell_type": "code",
   "execution_count": 96,
   "metadata": {
    "collapsed": true
   },
   "outputs": [],
   "source": [
    "x,y=1,3"
   ]
  },
  {
   "cell_type": "code",
   "execution_count": 97,
   "metadata": {
    "collapsed": true
   },
   "outputs": [],
   "source": [
    "def test():\n",
    "    global x,y\n",
    "    x,y=1,3\n",
    "    interpret(\"ULL\")\n",
    "    assert pos2code(x,y)=='5'\n",
    "    interpret(\"RRDDD\")\n",
    "    assert pos2code(x,y)=='D'\n",
    "    interpret(\"LURDL\")\n",
    "    assert pos2code(x,y)=='B'\n",
    "    interpret(\"UUUUD\")\n",
    "    assert pos2code(x,y)=='3'\n",
    "\n",
    "test()"
   ]
  },
  {
   "cell_type": "code",
   "execution_count": 1,
   "metadata": {
    "collapsed": true
   },
   "outputs": [],
   "source": [
    "def input(day):\n",
    "    \"(C) By Peter Norvig \"\n",
    "    \"Open this day's input file.\"\n",
    "    filename = 'input{}.txt'.format(day)\n",
    "    fh = open(filename)\n",
    "    for line in fh.readlines():\n",
    "        if len(line.strip())>0: yield line.strip()\n",
    "\n",
    "def test_input(day):    \n",
    "    filename = 'input{}-test.txt'.format(day)\n",
    "    fh = open(filename)\n",
    "    for line in fh.readlines():\n",
    "        if len(line.strip())>0: yield line.strip()\n",
    "    "
   ]
  },
  {
   "cell_type": "code",
   "execution_count": 99,
   "metadata": {
    "collapsed": true
   },
   "outputs": [],
   "source": [
    "def get_code(inputfile):\n",
    "    global x,y\n",
    "    x,y=1,3\n",
    "    for line in inputfile:\n",
    "        interpret(line)\n",
    "        print pos2code(x,y),"
   ]
  },
  {
   "cell_type": "code",
   "execution_count": 100,
   "metadata": {},
   "outputs": [
    {
     "name": "stdout",
     "output_type": "stream",
     "text": [
      "5 1 6 D D\n"
     ]
    }
   ],
   "source": [
    "get_code(input(2))"
   ]
  },
  {
   "cell_type": "markdown",
   "metadata": {},
   "source": [
    "<hr>\n",
    "# Day3\n",
    "http://adventofcode.com/2016/day/3\n",
    "    "
   ]
  },
  {
   "cell_type": "code",
   "execution_count": 102,
   "metadata": {
    "collapsed": true
   },
   "outputs": [],
   "source": [
    "import re\n",
    "def how_many_triangles(input):\n",
    "    triangles=0\n",
    "    for line in input:        \n",
    "        p0 = re.compile(\"\\s+\\d+\\s+\\d+\\s+\\d+\\s+\")\n",
    "        p = re.compile(\"\\s+\")\n",
    "        if line:\n",
    "            a,b,c = [int(x) for x in p.split(line)]\n",
    "            if a+b>c and a+c>b and b+c>a:\n",
    "                triangles += 1\n",
    "    return triangles"
   ]
  },
  {
   "cell_type": "code",
   "execution_count": 103,
   "metadata": {},
   "outputs": [
    {
     "data": {
      "text/plain": [
       "982"
      ]
     },
     "execution_count": 103,
     "metadata": {},
     "output_type": "execute_result"
    }
   ],
   "source": [
    "how_many_triangles(input(3))"
   ]
  },
  {
   "cell_type": "code",
   "execution_count": null,
   "metadata": {
    "collapsed": true
   },
   "outputs": [],
   "source": [
    "input(3)"
   ]
  },
  {
   "cell_type": "markdown",
   "metadata": {
    "collapsed": true
   },
   "source": [
    "... second part ..."
   ]
  },
  {
   "cell_type": "code",
   "execution_count": 105,
   "metadata": {
    "collapsed": true
   },
   "outputs": [],
   "source": [
    "def read_input(input):\n",
    "    c1,c2,c3=[],[],[]\n",
    "    p0 = re.compile(\"\\s+\\d+\\s+\\d+\\s+\\d+\\s+\")\n",
    "    p = re.compile(\"\\s+\")   \n",
    "    for line in input:               \n",
    "        a,b,c = [int(x) for x in p.split(line)]\n",
    "        c1.append(a)\n",
    "        c2.append(b)\n",
    "        c3.append(c)\n",
    "    return c1,c2,c3\n"
   ]
  },
  {
   "cell_type": "code",
   "execution_count": 106,
   "metadata": {
    "collapsed": true
   },
   "outputs": [],
   "source": [
    "c1,c2,c3 = read_input(input(3))\n",
    "\n",
    "def triplet(l):\n",
    "    for i in range(0,len(l),3):\n",
    "        yield l[i],l[i+1],l[i+2]\n",
    "\n",
    "    "
   ]
  },
  {
   "cell_type": "code",
   "execution_count": 107,
   "metadata": {},
   "outputs": [
    {
     "data": {
      "text/plain": [
       "<generator object triplet at 0x032CE120>"
      ]
     },
     "execution_count": 107,
     "metadata": {},
     "output_type": "execute_result"
    }
   ],
   "source": [
    "triplet(c1+c2+c3)"
   ]
  },
  {
   "cell_type": "code",
   "execution_count": 108,
   "metadata": {},
   "outputs": [
    {
     "name": "stdout",
     "output_type": "stream",
     "text": [
      "1826\n"
     ]
    }
   ],
   "source": [
    "triangles=0\n",
    "for a,b,c in triplet(c1+c2+c3):\n",
    "    if a+b>c and a+c>b and b+c>a:\n",
    "        triangles += 1\n",
    "print triangles\n",
    "    "
   ]
  },
  {
   "cell_type": "markdown",
   "metadata": {
    "collapsed": true
   },
   "source": [
    "<hr/>\n",
    "# Day 4"
   ]
  },
  {
   "cell_type": "code",
   "execution_count": 187,
   "metadata": {
    "collapsed": true
   },
   "outputs": [],
   "source": [
    "def parse_enc_name(input):\n",
    "    p = re.compile(\"([a-z\\-]+)-(\\d+)\\[([a-z]+)\\]\")\n",
    "    for line in input:\n",
    "        res = p.match(line)\n",
    "        yield res.group(1), int(res.group(2)), res.group(3)"
   ]
  },
  {
   "cell_type": "code",
   "execution_count": 192,
   "metadata": {
    "collapsed": true
   },
   "outputs": [],
   "source": [
    "from collections import defaultdict \n",
    "def histo(name):\n",
    "    name = name.replace(\"-\",\"\")\n",
    "    h=defaultdict(int)\n",
    "    for ch in name:\n",
    "        h[ch] += 1\n",
    "    return [a for a,b in sorted(h.items(), key=lambda x: (-x[1],x[0]), reverse=False)]"
   ]
  },
  {
   "cell_type": "code",
   "execution_count": 193,
   "metadata": {
    "collapsed": true
   },
   "outputs": [],
   "source": [
    "def checksum(name):\n",
    "    return ''.join(histo(name))[:5]"
   ]
  },
  {
   "cell_type": "code",
   "execution_count": 209,
   "metadata": {
    "collapsed": true
   },
   "outputs": [],
   "source": [
    "def is_real(name, check):\n",
    "    return check == checksum(name)"
   ]
  },
  {
   "cell_type": "code",
   "execution_count": 210,
   "metadata": {},
   "outputs": [
    {
     "ename": "TypeError",
     "evalue": "is_real() takes exactly 2 arguments (3 given)",
     "output_type": "error",
     "traceback": [
      "\u001b[1;31m---------------------------------------------------------------------------\u001b[0m",
      "\u001b[1;31mTypeError\u001b[0m                                 Traceback (most recent call last)",
      "\u001b[1;32m<ipython-input-210-c3cc2be3274b>\u001b[0m in \u001b[0;36m<module>\u001b[1;34m()\u001b[0m\n\u001b[0;32m      1\u001b[0m \u001b[1;33m\u001b[0m\u001b[0m\n\u001b[0;32m      2\u001b[0m \u001b[1;33m\u001b[0m\u001b[0m\n\u001b[1;32m----> 3\u001b[1;33m \u001b[1;32massert\u001b[0m \u001b[0mis_real\u001b[0m\u001b[1;33m(\u001b[0m\u001b[1;33m*\u001b[0m\u001b[0mparse_enc_name\u001b[0m\u001b[1;33m(\u001b[0m\u001b[1;33m[\u001b[0m\u001b[1;34m'aaaaa-bbb-z-y-x-123[abxyz]'\u001b[0m\u001b[1;33m]\u001b[0m\u001b[1;33m)\u001b[0m\u001b[1;33m.\u001b[0m\u001b[0mnext\u001b[0m\u001b[1;33m(\u001b[0m\u001b[1;33m)\u001b[0m\u001b[1;33m)\u001b[0m\u001b[1;33m\u001b[0m\u001b[0m\n\u001b[0m\u001b[0;32m      4\u001b[0m \u001b[1;32massert\u001b[0m \u001b[0mis_real\u001b[0m\u001b[1;33m(\u001b[0m\u001b[1;33m*\u001b[0m\u001b[0mparse_enc_name\u001b[0m\u001b[1;33m(\u001b[0m\u001b[1;33m[\u001b[0m\u001b[1;34m'a-b-c-d-e-f-g-h-987[abcde]'\u001b[0m\u001b[1;33m]\u001b[0m\u001b[1;33m)\u001b[0m\u001b[1;33m.\u001b[0m\u001b[0mnext\u001b[0m\u001b[1;33m(\u001b[0m\u001b[1;33m)\u001b[0m\u001b[1;33m)\u001b[0m\u001b[1;33m\u001b[0m\u001b[0m\n\u001b[0;32m      5\u001b[0m \u001b[1;32massert\u001b[0m \u001b[0mis_real\u001b[0m\u001b[1;33m(\u001b[0m\u001b[1;33m*\u001b[0m\u001b[0mparse_enc_name\u001b[0m\u001b[1;33m(\u001b[0m\u001b[1;33m[\u001b[0m\u001b[1;34m'not-a-real-room-404[oarel]'\u001b[0m\u001b[1;33m]\u001b[0m\u001b[1;33m)\u001b[0m\u001b[1;33m.\u001b[0m\u001b[0mnext\u001b[0m\u001b[1;33m(\u001b[0m\u001b[1;33m)\u001b[0m\u001b[1;33m)\u001b[0m\u001b[1;33m\u001b[0m\u001b[0m\n",
      "\u001b[1;31mTypeError\u001b[0m: is_real() takes exactly 2 arguments (3 given)"
     ]
    }
   ],
   "source": [
    "assert is_real(*parse_enc_name(['aaaaa-bbb-z-y-x-123[abxyz]']).next())\n",
    "assert is_real(*parse_enc_name(['a-b-c-d-e-f-g-h-987[abcde]']).next())\n",
    "assert is_real(*parse_enc_name(['not-a-real-room-404[oarel]']).next())\n",
    "assert not is_real(*parse_enc_name(['totally-real-room-200[decoy]']).next())"
   ]
  },
  {
   "cell_type": "code",
   "execution_count": 211,
   "metadata": {},
   "outputs": [
    {
     "data": {
      "text/plain": [
       "158835"
      ]
     },
     "execution_count": 211,
     "metadata": {},
     "output_type": "execute_result"
    }
   ],
   "source": [
    "sum([ sector for name,sector,check in parse_enc_name(input(4)) if is_real(name,check)])"
   ]
  },
  {
   "cell_type": "markdown",
   "metadata": {},
   "source": [
    "... part 2 ..."
   ]
  },
  {
   "cell_type": "code",
   "execution_count": 212,
   "metadata": {
    "collapsed": true
   },
   "outputs": [],
   "source": [
    "from string import maketrans\n",
    "shifttab=maketrans(\"abcdefghijklmnopqrstuvwxyz- \", \n",
    "                    \"bcdefghijklmnopqrstuvwxyza  \")\n",
    "    \n",
    "def shift_one(word):\n",
    "    return word.translate(shifttab)\n",
    "\n",
    "def shift(word, ntimes):\n",
    "    for i in range(ntimes):\n",
    "        word = shift_one(word)\n",
    "    return word"
   ]
  },
  {
   "cell_type": "code",
   "execution_count": 216,
   "metadata": {
    "collapsed": true
   },
   "outputs": [],
   "source": [
    "assert shift(\"qzmt-zixmtkozy-ivhz\", 343)== 'very encrypted name'"
   ]
  },
  {
   "cell_type": "code",
   "execution_count": 217,
   "metadata": {},
   "outputs": [
    {
     "data": {
      "text/plain": [
       "[('northpole object storage', 993)]"
      ]
     },
     "execution_count": 217,
     "metadata": {},
     "output_type": "execute_result"
    }
   ],
   "source": [
    "real_names = [(shift(name, sector), sector) for name, sector, check in parse_enc_name(input(4)) if is_real(name, check)]\n",
    "[(name, sector) for name, sector in real_names if name.startswith('northpole')]"
   ]
  },
  {
   "cell_type": "markdown",
   "metadata": {},
   "source": [
    "<hr/>\n",
    "#Day 5"
   ]
  },
  {
   "cell_type": "code",
   "execution_count": 28,
   "metadata": {},
   "outputs": [
    {
     "name": "stdout",
     "output_type": "stream",
     "text": [
      "\n"
     ]
    }
   ],
   "source": [
    "import hashlib\n",
    "def find_hash(doorid):    \n",
    "    for index in range( 100000000 ):\n",
    "        h = hashlib.md5(doorid)\n",
    "        h.update(str(index))                \n",
    "        if h.hexdigest().startswith('00000'):\n",
    "            yield h.hexdigest()[5]"
   ]
  },
  {
   "cell_type": "code",
   "execution_count": 29,
   "metadata": {
    "collapsed": true
   },
   "outputs": [],
   "source": [
    "h=find_hash('ugkcyxxp')\n"
   ]
  },
  {
   "cell_type": "code",
   "execution_count": 30,
   "metadata": {},
   "outputs": [
    {
     "name": "stdout",
     "output_type": "stream",
     "text": [
      "d 4 c d 2 e e 1\n"
     ]
    }
   ],
   "source": [
    "for _ in range(8):  print h.next(),"
   ]
  },
  {
   "cell_type": "markdown",
   "metadata": {},
   "source": [
    "<hr/>"
   ]
  },
  {
   "cell_type": "markdown",
   "metadata": {},
   "source": [
    ".. second part. 6th digit of the hash is position and 7th is the password character. Only first occurence counts\n"
   ]
  },
  {
   "cell_type": "code",
   "execution_count": 46,
   "metadata": {
    "collapsed": true
   },
   "outputs": [],
   "source": [
    "def find_hash(doorid):    \n",
    "    for index in range( 100000000 ):\n",
    "        h = hashlib.md5(doorid)\n",
    "        h.update(str(index))                \n",
    "        if h.hexdigest().startswith('00000'):\n",
    "            yield h.hexdigest()[5],h.hexdigest()[6]"
   ]
  },
  {
   "cell_type": "code",
   "execution_count": 64,
   "metadata": {},
   "outputs": [
    {
     "name": "stdout",
     "output_type": "stream",
     "text": [
      "['_', '_', '_', '_', '3', '_', '_', '_']\n",
      "['_', '_', 'c', '_', '3', '_', '_', '_']\n",
      "['_', '2', 'c', '_', '3', '_', '_', '_']\n",
      "['_', '2', 'c', '_', '3', '0', '_', '_']\n",
      "['_', '2', 'c', '_', '3', '0', '_', '5']\n",
      "['f', '2', 'c', '_', '3', '0', '_', '5']\n",
      "['f', '2', 'c', '_', '3', '0', 'e', '5']\n",
      "['f', '2', 'c', '7', '3', '0', 'e', '5']\n",
      "f2c730e5\n"
     ]
    }
   ],
   "source": [
    "password=list(\"_\"*8)\n",
    "i=0\n",
    "h=find_hash('ugkcyxxp')\n",
    "while '_' in password:\n",
    "    pos,c = h.next()\n",
    "    if pos<'8' and password[int(pos)]=='_': \n",
    "        password[int(pos)]=c\n",
    "        print password\n",
    "print \"\".join(password)"
   ]
  },
  {
   "cell_type": "code",
   "execution_count": 60,
   "metadata": {},
   "outputs": [
    {
     "data": {
      "text/plain": [
       "False"
      ]
     },
     "execution_count": 60,
     "metadata": {},
     "output_type": "execute_result"
    }
   ],
   "source": [
    "'_' in (\"_\"*8).split()"
   ]
  },
  {
   "cell_type": "code",
   "execution_count": 45,
   "metadata": {},
   "outputs": [
    {
     "data": {
      "text/plain": [
       "('d', 'd')"
      ]
     },
     "execution_count": 45,
     "metadata": {},
     "output_type": "execute_result"
    }
   ],
   "source": [
    "h.next()"
   ]
  },
  {
   "cell_type": "code",
   "execution_count": 63,
   "metadata": {},
   "outputs": [
    {
     "data": {
      "text/plain": [
       "['a', 'b', 'a']"
      ]
     },
     "execution_count": 63,
     "metadata": {},
     "output_type": "execute_result"
    }
   ],
   "source": [
    "list(\"aba\")"
   ]
  },
  {
   "cell_type": "markdown",
   "metadata": {
    "collapsed": true
   },
   "source": [
    "<hr>\n",
    "# Day 6\n",
    "\n",
    "http://adventofcode.com/2016/day/6"
   ]
  },
  {
   "cell_type": "code",
   "execution_count": 8,
   "metadata": {
    "collapsed": true,
    "scrolled": true
   },
   "outputs": [],
   "source": [
    "message = input(6)"
   ]
  },
  {
   "cell_type": "code",
   "execution_count": 9,
   "metadata": {
    "collapsed": true
   },
   "outputs": [],
   "source": [
    "transposed = zip(*message)"
   ]
  },
  {
   "cell_type": "code",
   "execution_count": 10,
   "metadata": {
    "collapsed": true
   },
   "outputs": [],
   "source": [
    "from collections import Counter\n",
    "out = []\n",
    "for column in transposed:\n",
    "    cnt = Counter(column)    \n",
    "    out.append(cnt.most_common(1)[0][0])"
   ]
  },
  {
   "cell_type": "code",
   "execution_count": 11,
   "metadata": {},
   "outputs": [
    {
     "name": "stdout",
     "output_type": "stream",
     "text": [
      "xdkzukcf\n"
     ]
    }
   ],
   "source": [
    "print ''.join(out)"
   ]
  },
  {
   "cell_type": "markdown",
   "metadata": {
    "collapsed": true
   },
   "source": [
    "... and now part two. Get the *least* frequent character among repetitions"
   ]
  },
  {
   "cell_type": "code",
   "execution_count": 12,
   "metadata": {
    "collapsed": true
   },
   "outputs": [],
   "source": [
    "out = []\n",
    "for column in transposed:\n",
    "    cnt = Counter(column)    \n",
    "    out.append(cnt.most_common()[-1][0][0])"
   ]
  },
  {
   "cell_type": "code",
   "execution_count": 13,
   "metadata": {},
   "outputs": [
    {
     "name": "stdout",
     "output_type": "stream",
     "text": [
      "cevsgyvd\n"
     ]
    }
   ],
   "source": [
    "print ''.join(out)"
   ]
  },
  {
   "cell_type": "markdown",
   "metadata": {},
   "source": [
    "<hr>\n",
    "# Day 7\n",
    "http://adventofcode.com/2016/day/7"
   ]
  },
  {
   "cell_type": "code",
   "execution_count": 23,
   "metadata": {},
   "outputs": [
    {
     "ename": "AssertionError",
     "evalue": "itgslvpxoqqakli[arktzcssgkxktejbno]wsgkbwwtbmfnddt[zblrboqsvezcgfmfvcz]iwyhyatqetsreeyhh",
     "output_type": "error",
     "traceback": [
      "\u001b[1;31m---------------------------------------------------------------------------\u001b[0m",
      "\u001b[1;31mAssertionError\u001b[0m                            Traceback (most recent call last)",
      "\u001b[1;32m<ipython-input-23-9a16f17d8734>\u001b[0m in \u001b[0;36m<module>\u001b[1;34m()\u001b[0m\n\u001b[0;32m      4\u001b[0m \u001b[1;32mfor\u001b[0m \u001b[0mline\u001b[0m \u001b[1;32min\u001b[0m \u001b[0mlines\u001b[0m\u001b[1;33m:\u001b[0m\u001b[1;33m\u001b[0m\u001b[0m\n\u001b[0;32m      5\u001b[0m     \u001b[0msegments\u001b[0m \u001b[1;33m=\u001b[0m \u001b[0mre\u001b[0m\u001b[1;33m.\u001b[0m\u001b[0msplit\u001b[0m\u001b[1;33m(\u001b[0m\u001b[1;34m'\\[|\\]'\u001b[0m\u001b[1;33m,\u001b[0m \u001b[0mline\u001b[0m\u001b[1;33m)\u001b[0m\u001b[1;33m\u001b[0m\u001b[0m\n\u001b[1;32m----> 6\u001b[1;33m     \u001b[1;32massert\u001b[0m \u001b[1;33m(\u001b[0m\u001b[0mlen\u001b[0m\u001b[1;33m(\u001b[0m\u001b[0msegments\u001b[0m\u001b[1;33m)\u001b[0m\u001b[1;33m==\u001b[0m\u001b[1;36m3\u001b[0m\u001b[1;33m)\u001b[0m\u001b[1;33m,\u001b[0m \u001b[0mline\u001b[0m\u001b[1;33m\u001b[0m\u001b[0m\n\u001b[0m",
      "\u001b[1;31mAssertionError\u001b[0m: itgslvpxoqqakli[arktzcssgkxktejbno]wsgkbwwtbmfnddt[zblrboqsvezcgfmfvcz]iwyhyatqetsreeyhh"
     ]
    }
   ],
   "source": [
    "import re\n",
    "\n",
    "lines = input(7)\n",
    "for line in lines:\n",
    "    segments = re.split('\\[|\\]', line)\n",
    "    assert (len(segments)==3), line"
   ]
  },
  {
   "cell_type": "code",
   "execution_count": null,
   "metadata": {
    "collapsed": true
   },
   "outputs": [],
   "source": []
  }
 ],
 "metadata": {
  "kernelspec": {
   "display_name": "Python 2",
   "language": "python",
   "name": "python2"
  },
  "language_info": {
   "codemirror_mode": {
    "name": "ipython",
    "version": 2
   },
   "file_extension": ".py",
   "mimetype": "text/x-python",
   "name": "python",
   "nbconvert_exporter": "python",
   "pygments_lexer": "ipython2",
   "version": "2.7.10"
  }
 },
 "nbformat": 4,
 "nbformat_minor": 1
}
