{
 "cells": [
  {
   "cell_type": "markdown",
   "metadata": {
    "collapsed": true
   },
   "source": [
    "# Advent of Code 2016 - Day 2\n",
    "http://adventofcode.com/2016/day/2"
   ]
  },
  {
   "cell_type": "code",
   "execution_count": 3,
   "metadata": {
    "collapsed": true
   },
   "outputs": [],
   "source": [
    "def U():\n",
    "    global y\n",
    "    if y>0: y -= 1"
   ]
  },
  {
   "cell_type": "code",
   "execution_count": 4,
   "metadata": {
    "collapsed": true
   },
   "outputs": [],
   "source": [
    "def D():\n",
    "    global y\n",
    "    if y<2: y += 1"
   ]
  },
  {
   "cell_type": "code",
   "execution_count": 5,
   "metadata": {
    "collapsed": true
   },
   "outputs": [],
   "source": [
    "def L():\n",
    "    global x\n",
    "    if x>0: x-=1"
   ]
  },
  {
   "cell_type": "code",
   "execution_count": 6,
   "metadata": {
    "collapsed": true
   },
   "outputs": [],
   "source": [
    "def R():\n",
    "    global x\n",
    "    if x<2: x+=1"
   ]
  },
  {
   "cell_type": "code",
   "execution_count": 7,
   "metadata": {
    "collapsed": true
   },
   "outputs": [],
   "source": [
    "x,y=1,1"
   ]
  },
  {
   "cell_type": "code",
   "execution_count": 8,
   "metadata": {
    "collapsed": true
   },
   "outputs": [],
   "source": [
    "keypad=[[1,2,3],[4,5,6],[7,8,9]]"
   ]
  },
  {
   "cell_type": "code",
   "execution_count": 9,
   "metadata": {
    "collapsed": true
   },
   "outputs": [],
   "source": [
    "def interpret(code):\n",
    "    for ch in code:\n",
    "        globals()[ch]()"
   ]
  },
  {
   "cell_type": "code",
   "execution_count": 10,
   "metadata": {
    "collapsed": true
   },
   "outputs": [],
   "source": [
    "interpret(\"UUUUURDD\")"
   ]
  },
  {
   "cell_type": "code",
   "execution_count": 11,
   "metadata": {
    "collapsed": true
   },
   "outputs": [],
   "source": [
    "fh=open(\"input2.txt\",'r')"
   ]
  },
  {
   "cell_type": "code",
   "execution_count": 12,
   "metadata": {},
   "outputs": [
    {
     "name": "stdout",
     "output_type": "stream",
     "text": [
      "1 2 5 7 8\n"
     ]
    }
   ],
   "source": [
    "for line in fh.readlines():\n",
    "    x,y=1,1\n",
    "    interpret(line.strip())\n",
    "    print keypad[y][x],"
   ]
  },
  {
   "cell_type": "code",
   "execution_count": 13,
   "metadata": {
    "collapsed": true
   },
   "outputs": [],
   "source": [
    "fh.close()"
   ]
  },
  {
   "cell_type": "markdown",
   "metadata": {},
   "source": [
    "I have to change the implementation for second half ..."
   ]
  },
  {
   "cell_type": "code",
   "execution_count": 14,
   "metadata": {
    "collapsed": true
   },
   "outputs": [],
   "source": [
    "keypad=[   \n",
    "    \"0000000\",\n",
    "    \"0001000\",\n",
    "    \"0023400\",\n",
    "    \"0567890\",\n",
    "    \"00ABC00\",\n",
    "    \"000D000\",\n",
    "    \"0000000\"]"
   ]
  },
  {
   "cell_type": "code",
   "execution_count": 15,
   "metadata": {
    "collapsed": true
   },
   "outputs": [],
   "source": [
    "def pos2code(x,y):\n",
    "    return keypad[y][x]"
   ]
  },
  {
   "cell_type": "code",
   "execution_count": 16,
   "metadata": {
    "collapsed": true
   },
   "outputs": [],
   "source": [
    "def U():\n",
    "    global x,y\n",
    "    if keypad[y-1][x]<>'0': y-=1\n",
    "\n",
    "def D():\n",
    "    global x,y\n",
    "    if keypad[y+1][x]<>'0': y+=1\n",
    "\n",
    "def R():\n",
    "    global x,y\n",
    "    if keypad[y][x+1]<>'0': x+=1\n",
    "\n",
    "def L():\n",
    "    global x,y\n",
    "    if keypad[y][x-1]<>'0': x-=1"
   ]
  },
  {
   "cell_type": "code",
   "execution_count": 17,
   "metadata": {
    "collapsed": true
   },
   "outputs": [],
   "source": [
    "def interpret(code):\n",
    "    for ch in code:\n",
    "        globals()[ch]()"
   ]
  },
  {
   "cell_type": "code",
   "execution_count": 18,
   "metadata": {
    "collapsed": true
   },
   "outputs": [],
   "source": [
    "x,y=1,3"
   ]
  },
  {
   "cell_type": "code",
   "execution_count": 19,
   "metadata": {
    "collapsed": true
   },
   "outputs": [],
   "source": [
    "def test():\n",
    "    global x,y\n",
    "    x,y=1,3\n",
    "    interpret(\"ULL\")\n",
    "    assert pos2code(x,y)=='5'\n",
    "    interpret(\"RRDDD\")\n",
    "    assert pos2code(x,y)=='D'\n",
    "    interpret(\"LURDL\")\n",
    "    assert pos2code(x,y)=='B'\n",
    "    interpret(\"UUUUD\")\n",
    "    assert pos2code(x,y)=='3'\n",
    "\n",
    "test()"
   ]
  },
  {
   "cell_type": "code",
   "execution_count": 20,
   "metadata": {
    "collapsed": true
   },
   "outputs": [],
   "source": [
    "def input(day):\n",
    "    \"(C) By Peter Norvig \"\n",
    "    \"Open this day's input file.\"\n",
    "    filename = 'input{}.txt'.format(day)\n",
    "    fh = open(filename)\n",
    "    for line in fh.readlines():\n",
    "        if len(line.strip())>0: yield line.strip()\n",
    "\n",
    "def test_input(day):    \n",
    "    filename = 'input{}-test.txt'.format(day)\n",
    "    fh = open(filename)\n",
    "    for line in fh.readlines():\n",
    "        if len(line.strip())>0: yield line.strip()"
   ]
  },
  {
   "cell_type": "code",
   "execution_count": 21,
   "metadata": {
    "collapsed": true
   },
   "outputs": [],
   "source": [
    "def get_code(inputfile):\n",
    "    global x,y\n",
    "    x,y=1,3\n",
    "    for line in inputfile:\n",
    "        interpret(line)\n",
    "        print pos2code(x,y),"
   ]
  },
  {
   "cell_type": "code",
   "execution_count": 22,
   "metadata": {},
   "outputs": [
    {
     "name": "stdout",
     "output_type": "stream",
     "text": [
      "5 1 6 D D\n"
     ]
    }
   ],
   "source": [
    "get_code(input(2))"
   ]
  },
  {
   "cell_type": "markdown",
   "metadata": {},
   "source": [
    "<hr>\n",
    "# Day3\n",
    "http://adventofcode.com/2016/day/3\n",
    "    "
   ]
  },
  {
   "cell_type": "code",
   "execution_count": 23,
   "metadata": {
    "collapsed": true
   },
   "outputs": [],
   "source": [
    "import re\n",
    "def how_many_triangles(input):\n",
    "    triangles=0\n",
    "    for line in input:        \n",
    "        p0 = re.compile(\"\\s+\\d+\\s+\\d+\\s+\\d+\\s+\")\n",
    "        p = re.compile(\"\\s+\")\n",
    "        if line:\n",
    "            a,b,c = [int(x) for x in p.split(line)]\n",
    "            if a+b>c and a+c>b and b+c>a:\n",
    "                triangles += 1\n",
    "    return triangles"
   ]
  },
  {
   "cell_type": "code",
   "execution_count": 24,
   "metadata": {},
   "outputs": [
    {
     "data": {
      "text/plain": [
       "982"
      ]
     },
     "execution_count": 24,
     "metadata": {},
     "output_type": "execute_result"
    }
   ],
   "source": [
    "how_many_triangles(input(3))"
   ]
  },
  {
   "cell_type": "code",
   "execution_count": 25,
   "metadata": {},
   "outputs": [
    {
     "data": {
      "text/plain": [
       "<generator object input at 0x02577E68>"
      ]
     },
     "execution_count": 25,
     "metadata": {},
     "output_type": "execute_result"
    }
   ],
   "source": [
    "input(3)"
   ]
  },
  {
   "cell_type": "markdown",
   "metadata": {
    "collapsed": true
   },
   "source": [
    "... second part ..."
   ]
  },
  {
   "cell_type": "code",
   "execution_count": 26,
   "metadata": {
    "collapsed": true
   },
   "outputs": [],
   "source": [
    "def read_input(input):\n",
    "    c1,c2,c3=[],[],[]\n",
    "    p0 = re.compile(\"\\s+\\d+\\s+\\d+\\s+\\d+\\s+\")\n",
    "    p = re.compile(\"\\s+\")   \n",
    "    for line in input:               \n",
    "        a,b,c = [int(x) for x in p.split(line)]\n",
    "        c1.append(a)\n",
    "        c2.append(b)\n",
    "        c3.append(c)\n",
    "    return c1,c2,c3"
   ]
  },
  {
   "cell_type": "code",
   "execution_count": 27,
   "metadata": {
    "collapsed": true
   },
   "outputs": [],
   "source": [
    "c1,c2,c3 = read_input(input(3))\n",
    "\n",
    "def triplet(l):\n",
    "    for i in range(0,len(l),3):\n",
    "        yield l[i],l[i+1],l[i+2]"
   ]
  },
  {
   "cell_type": "code",
   "execution_count": 28,
   "metadata": {},
   "outputs": [
    {
     "data": {
      "text/plain": [
       "<generator object triplet at 0x02589080>"
      ]
     },
     "execution_count": 28,
     "metadata": {},
     "output_type": "execute_result"
    }
   ],
   "source": [
    "triplet(c1+c2+c3)"
   ]
  },
  {
   "cell_type": "code",
   "execution_count": 29,
   "metadata": {},
   "outputs": [
    {
     "name": "stdout",
     "output_type": "stream",
     "text": [
      "1826\n"
     ]
    }
   ],
   "source": [
    "triangles=0\n",
    "for a,b,c in triplet(c1+c2+c3):\n",
    "    if a+b>c and a+c>b and b+c>a:\n",
    "        triangles += 1\n",
    "print triangles"
   ]
  },
  {
   "cell_type": "markdown",
   "metadata": {
    "collapsed": true
   },
   "source": [
    "<hr>\n",
    "# Day 4 \n"
   ]
  },
  {
   "cell_type": "code",
   "execution_count": 35,
   "metadata": {
    "collapsed": true
   },
   "outputs": [],
   "source": [
    "def parse_enc_name(input):\n",
    "    p = re.compile(\"([a-z\\-]+)-(\\d+)\\[([a-z]+)\\]\")\n",
    "    for line in input:\n",
    "        res = p.match(line)\n",
    "        yield res.group(1), int(res.group(2)), res.group(3)"
   ]
  },
  {
   "cell_type": "code",
   "execution_count": 36,
   "metadata": {
    "collapsed": true
   },
   "outputs": [],
   "source": [
    "from collections import defaultdict \n",
    "def histo(name):\n",
    "    name = name.replace(\"-\",\"\")\n",
    "    h=defaultdict(int)\n",
    "    for ch in name:\n",
    "        h[ch] += 1\n",
    "    return [a for a,b in sorted(h.items(), key=lambda x: (-x[1],x[0]), reverse=False)]"
   ]
  },
  {
   "cell_type": "code",
   "execution_count": 37,
   "metadata": {
    "collapsed": true
   },
   "outputs": [],
   "source": [
    "def checksum(name):\n",
    "    return ''.join(histo(name))[:5]"
   ]
  },
  {
   "cell_type": "code",
   "execution_count": 38,
   "metadata": {
    "collapsed": true
   },
   "outputs": [],
   "source": [
    "def is_real(name, check):\n",
    "    return check == checksum(name)"
   ]
  },
  {
   "cell_type": "code",
   "execution_count": 40,
   "metadata": {},
   "outputs": [
    {
     "data": {
      "text/plain": [
       "158835"
      ]
     },
     "execution_count": 40,
     "metadata": {},
     "output_type": "execute_result"
    }
   ],
   "source": [
    "sum([ sector for name,sector,check in parse_enc_name(input(4)) if is_real(name,check)])"
   ]
  },
  {
   "cell_type": "markdown",
   "metadata": {},
   "source": [
    "... part 2 ..."
   ]
  },
  {
   "cell_type": "code",
   "execution_count": 41,
   "metadata": {
    "collapsed": true
   },
   "outputs": [],
   "source": [
    "from string import maketrans\n",
    "shifttab=maketrans(\"abcdefghijklmnopqrstuvwxyz- \", \n",
    "                    \"bcdefghijklmnopqrstuvwxyza  \")\n",
    "    \n",
    "def shift_one(word):\n",
    "    return word.translate(shifttab)\n",
    "\n",
    "def shift(word, ntimes):\n",
    "    for i in range(ntimes):\n",
    "        word = shift_one(word)\n",
    "    return word"
   ]
  },
  {
   "cell_type": "code",
   "execution_count": 42,
   "metadata": {
    "collapsed": true
   },
   "outputs": [],
   "source": [
    "assert shift(\"qzmt-zixmtkozy-ivhz\", 343)== 'very encrypted name'"
   ]
  },
  {
   "cell_type": "code",
   "execution_count": 43,
   "metadata": {},
   "outputs": [
    {
     "data": {
      "text/plain": [
       "[('northpole object storage', 993)]"
      ]
     },
     "execution_count": 43,
     "metadata": {},
     "output_type": "execute_result"
    }
   ],
   "source": [
    "real_names = [(shift(name, sector), sector) for name, sector, check in parse_enc_name(input(4)) if is_real(name, check)]\n",
    "[(name, sector) for name, sector in real_names if name.startswith('northpole')]"
   ]
  },
  {
   "cell_type": "markdown",
   "metadata": {},
   "source": [
    "<hr>\n",
    "# Day 5"
   ]
  },
  {
   "cell_type": "code",
   "execution_count": 44,
   "metadata": {},
   "outputs": [],
   "source": [
    "import hashlib\n",
    "def find_hash(doorid):    \n",
    "    for index in range( 100000000 ):\n",
    "        h = hashlib.md5(doorid)\n",
    "        h.update(str(index))                \n",
    "        if h.hexdigest().startswith('00000'):\n",
    "            yield h.hexdigest()[5]"
   ]
  },
  {
   "cell_type": "code",
   "execution_count": 45,
   "metadata": {
    "collapsed": true
   },
   "outputs": [],
   "source": [
    "h=find_hash('ugkcyxxp')"
   ]
  },
  {
   "cell_type": "code",
   "execution_count": 46,
   "metadata": {},
   "outputs": [
    {
     "name": "stdout",
     "output_type": "stream",
     "text": [
      "d 4 c d 2 e e 1\n"
     ]
    }
   ],
   "source": [
    "for _ in range(8):  print h.next(),"
   ]
  },
  {
   "cell_type": "markdown",
   "metadata": {},
   "source": [
    "<hr/>"
   ]
  },
  {
   "cell_type": "markdown",
   "metadata": {},
   "source": [
    ".. second part. 6th digit of the hash is position and 7th is the password character. Only first occurence counts\n"
   ]
  },
  {
   "cell_type": "code",
   "execution_count": 47,
   "metadata": {
    "collapsed": true
   },
   "outputs": [],
   "source": [
    "def find_hash(doorid):    \n",
    "    for index in range( 100000000 ):\n",
    "        h = hashlib.md5(doorid)\n",
    "        h.update(str(index))                \n",
    "        if h.hexdigest().startswith('00000'):\n",
    "            yield h.hexdigest()[5],h.hexdigest()[6]"
   ]
  },
  {
   "cell_type": "code",
   "execution_count": 48,
   "metadata": {},
   "outputs": [
    {
     "name": "stdout",
     "output_type": "stream",
     "text": [
      "['_', '_', '_', '_', '3', '_', '_', '_']\n",
      "['_', '_', 'c', '_', '3', '_', '_', '_']\n",
      "['_', '2', 'c', '_', '3', '_', '_', '_']\n",
      "['_', '2', 'c', '_', '3', '0', '_', '_']\n",
      "['_', '2', 'c', '_', '3', '0', '_', '5']\n",
      "['f', '2', 'c', '_', '3', '0', '_', '5']\n",
      "['f', '2', 'c', '_', '3', '0', 'e', '5']\n",
      "['f', '2', 'c', '7', '3', '0', 'e', '5']\n",
      "f2c730e5\n"
     ]
    }
   ],
   "source": [
    "password=list(\"_\"*8)\n",
    "i=0\n",
    "h=find_hash('ugkcyxxp')\n",
    "while '_' in password:\n",
    "    pos,c = h.next()\n",
    "    if pos<'8' and password[int(pos)]=='_': \n",
    "        password[int(pos)]=c\n",
    "        print password\n",
    "print \"\".join(password)"
   ]
  },
  {
   "cell_type": "code",
   "execution_count": 49,
   "metadata": {},
   "outputs": [
    {
     "data": {
      "text/plain": [
       "False"
      ]
     },
     "execution_count": 49,
     "metadata": {},
     "output_type": "execute_result"
    }
   ],
   "source": [
    "'_' in (\"_\"*8).split()"
   ]
  },
  {
   "cell_type": "code",
   "execution_count": 50,
   "metadata": {},
   "outputs": [
    {
     "data": {
      "text/plain": [
       "('5', 'd')"
      ]
     },
     "execution_count": 50,
     "metadata": {},
     "output_type": "execute_result"
    }
   ],
   "source": [
    "h.next()"
   ]
  },
  {
   "cell_type": "code",
   "execution_count": 51,
   "metadata": {},
   "outputs": [
    {
     "data": {
      "text/plain": [
       "['a', 'b', 'a']"
      ]
     },
     "execution_count": 51,
     "metadata": {},
     "output_type": "execute_result"
    }
   ],
   "source": [
    "list(\"aba\")"
   ]
  },
  {
   "cell_type": "markdown",
   "metadata": {
    "collapsed": true
   },
   "source": [
    "<hr>\n",
    "# Day 6\n",
    "\n",
    "http://adventofcode.com/2016/day/6"
   ]
  },
  {
   "cell_type": "code",
   "execution_count": 52,
   "metadata": {
    "collapsed": true,
    "scrolled": true
   },
   "outputs": [],
   "source": [
    "message = input(6)"
   ]
  },
  {
   "cell_type": "code",
   "execution_count": 53,
   "metadata": {
    "collapsed": true
   },
   "outputs": [],
   "source": [
    "transposed = zip(*message)"
   ]
  },
  {
   "cell_type": "code",
   "execution_count": 54,
   "metadata": {
    "collapsed": true
   },
   "outputs": [],
   "source": [
    "from collections import Counter\n",
    "out = []\n",
    "for column in transposed:\n",
    "    cnt = Counter(column)    \n",
    "    out.append(cnt.most_common(1)[0][0])"
   ]
  },
  {
   "cell_type": "code",
   "execution_count": 55,
   "metadata": {},
   "outputs": [
    {
     "name": "stdout",
     "output_type": "stream",
     "text": [
      "xdkzukcf\n"
     ]
    }
   ],
   "source": [
    "print ''.join(out)"
   ]
  },
  {
   "cell_type": "markdown",
   "metadata": {
    "collapsed": true
   },
   "source": [
    "... and now part two. Get the *least* frequent character among repetitions"
   ]
  },
  {
   "cell_type": "code",
   "execution_count": 56,
   "metadata": {
    "collapsed": true
   },
   "outputs": [],
   "source": [
    "out = []\n",
    "for column in transposed:\n",
    "    cnt = Counter(column)    \n",
    "    out.append(cnt.most_common()[-1][0][0])"
   ]
  },
  {
   "cell_type": "code",
   "execution_count": 57,
   "metadata": {},
   "outputs": [
    {
     "name": "stdout",
     "output_type": "stream",
     "text": [
      "cevsgyvd\n"
     ]
    }
   ],
   "source": [
    "print ''.join(out)"
   ]
  },
  {
   "cell_type": "markdown",
   "metadata": {},
   "source": [
    "<hr>\n",
    "# Day 7\n",
    "http://adventofcode.com/2016/day/7"
   ]
  },
  {
   "cell_type": "code",
   "execution_count": 224,
   "metadata": {},
   "outputs": [
    {
     "data": {
      "text/plain": [
       "115"
      ]
     },
     "execution_count": 224,
     "metadata": {},
     "output_type": "execute_result"
    }
   ],
   "source": [
    "import re\n",
    "\n",
    "lines = input(7)\n",
    "\n",
    "def segments(line):\n",
    "    return re.split('\\[|\\]', line)\n",
    "\n",
    "def outs(line):  return \"-\".join(segments(line)[0::2])\n",
    "def ins(line):   return \"-\".join(segments(line)[1::2])\n",
    "\n",
    "def sequences(segment,n):\n",
    "    return [segment[i:i+n] for i in range(0,len(segment)-n+1)]\n",
    "\n",
    "def is_abba(a,b,c,d):\n",
    "    return a==d and b==c and a<>b\n",
    "\n",
    "def is_segment_abba(segment):\n",
    "    return any([is_abba(*x) for x in sequences(segment,4)]) \n",
    "  \n",
    "def tls(line):\n",
    "    return is_segment_abba(outs(line)) and not is_segment_abba(ins(line))\n",
    "    \n",
    "[tls(line) for line in lines].count(True)"
   ]
  },
  {
   "cell_type": "markdown",
   "metadata": {},
   "source": [
    "--- part 2"
   ]
  },
  {
   "cell_type": "code",
   "execution_count": 227,
   "metadata": {},
   "outputs": [],
   "source": [
    "lines = input(7)\n",
    "\n",
    "def is_aba(a,b,c):\n",
    "    return a==c and a<>b\n",
    "\n",
    "def all_aba_seq(segment):\n",
    "    return [x for x in sequences(segment,3) if is_aba(*x)]\n",
    "\n",
    "def r(aba):\n",
    "    assert is_aba(*aba), aba\n",
    "    return \"\".join([aba[1],aba[0],aba[1]])\n",
    "\n",
    "def ssl2(line):\n",
    "    for a in all_aba_seq(outs(line)):\n",
    "        if r(a) in all_aba_seq(ins(line)): return True\n",
    "    return False"
   ]
  },
  {
   "cell_type": "code",
   "execution_count": 228,
   "metadata": {},
   "outputs": [
    {
     "data": {
      "text/plain": [
       "231"
      ]
     },
     "execution_count": 228,
     "metadata": {},
     "output_type": "execute_result"
    }
   ],
   "source": [
    "sum([ssl(l) for l in lines])"
   ]
  },
  {
   "cell_type": "markdown",
   "metadata": {},
   "source": [
    "<hr>\n",
    "# Day 8"
   ]
  },
  {
   "cell_type": "code",
   "execution_count": null,
   "metadata": {
    "collapsed": true
   },
   "outputs": [],
   "source": []
  }
 ],
 "metadata": {
  "kernelspec": {
   "display_name": "Python 2",
   "language": "python",
   "name": "python2"
  }
 },
 "nbformat": 4,
 "nbformat_minor": 1
}
